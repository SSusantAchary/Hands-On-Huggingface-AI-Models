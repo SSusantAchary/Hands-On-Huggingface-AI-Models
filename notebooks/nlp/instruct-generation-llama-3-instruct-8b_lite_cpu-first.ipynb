{
  "cells": [
    {
      "cell_type": "markdown",
      "metadata": {},
      "source": [
        "# Instruction Generation \u2014 Llama 3 Instruct 8B (lite fallback)\n",
        "**TL;DR:** Demonstrate small instruction prompts on CPU with a TinyLlama fallback while documenting access needs for Llama 3.\n",
        "\n",
        "**Models & Datasets:** [Meta-Llama-3-8B-Instruct (fallback: TinyLlama-1.1B-Chat)](https://huggingface.co/meta-llama/Meta-Llama-3-8B-Instruct) (Custom (Llama 3), Apache-2.0 (TinyLlama)), [Synthetic prompts (UltraChat sample)](https://huggingface.co/datasets/prompt-injection/ultra-chat) (CC BY-SA 4.0)\n",
        "**Run Profiles:** \ud83d\udda5\ufe0f CPU | \ud83c\udf4e Metal (Apple Silicon) | \ud83e\uddea Colab/T4 | \u26a1 CUDA GPU\n",
        "**Env (minimal):** python>=3.10, transformers, datasets, evaluate, accelerate (optional: peft, bitsandbytes, timm, diffusers)\n",
        "**Colab:** [Open in Colab](https://colab.research.google.com/github/SSusantAchary/Hands-On-Huggingface-AI-Models/blob/main/notebooks/nlp/instruct-generation-llama-3-instruct-8b_lite_cpu-first.ipynb)\n",
        "\n",
        "**Switches (edit in one place):**\n",
        "- `device` = {\"cpu\",\"mps\",\"cuda\"}\n",
        "- `precision` = {\"fp32\",\"fp16\",\"bf16\",\"int8\",\"4bit\"}  (apply only if supported)\n",
        "- `context_len` / `image_res` / `batch_size`\n",
        "\n",
        "**Footprint & Speed (fill after run):**\n",
        "- Peak RAM: TODO\n",
        "- Peak VRAM: TODO (if GPU)\n",
        "- TTFB: TODO, Throughput: TODO, Load time: TODO\n",
        "\n",
        "**Gotchas:** bitsandbytes optional; CPU uses fp32 pipeline automatically ([Fixes & Tips](../fixes-and-tips/bitsandbytes-wheel-mismatch.md))\n"
      ]
    },
    {
      "cell_type": "markdown",
      "metadata": {},
      "source": [
        "\n",
        "## Setup\n",
        "Load the instruct model with a CPU-safe fallback if the full Llama 3 weights are inaccessible.\n"
      ]
    },
    {
      "cell_type": "code",
      "metadata": {},
      "execution_count": null,
      "outputs": [],
      "source": [
        "\n",
        "import json\n",
        "import os\n",
        "import subprocess\n",
        "import time\n",
        "from pathlib import Path\n",
        "\n",
        "import torch\n",
        "from transformers import AutoTokenizer, pipeline\n",
        "\n",
        "from notebooks._templates.measure import append_benchmark_row, measure_memory_speed\n",
        "\n",
        "TARGET_MODEL = \"meta-llama/Meta-Llama-3-8B-Instruct\"\n",
        "FALLBACK_MODEL = os.environ.get(\"HF_FALLBACK_MODEL\", \"TinyLlama/TinyLlama-1.1B-Chat-v1.0\")\n",
        "REQUESTED_MODEL = os.environ.get(\"HF_MODEL_ID\", FALLBACK_MODEL)\n",
        "\n",
        "DEVICE_PREFERENCE = os.environ.get(\"HF_DEVICE\", \"cpu\")\n",
        "PRECISION = os.environ.get(\"HF_PRECISION\", \"fp32\")\n",
        "\n",
        "def resolve_device(preference: str = \"cpu\") -> str:\n",
        "    if preference == \"cuda\" and torch.cuda.is_available():\n",
        "        return \"cuda:0\"\n",
        "    if preference == \"mps\" and torch.backends.mps.is_available():\n",
        "        return \"mps\"\n",
        "    return \"cpu\"\n",
        "\n",
        "DEVICE = resolve_device(DEVICE_PREFERENCE)\n",
        "print(f\"Using device={DEVICE}\")\n",
        "\n",
        "def choose_model() -> str:\n",
        "    target = TARGET_MODEL if REQUESTED_MODEL == TARGET_MODEL else REQUESTED_MODEL\n",
        "    if target == TARGET_MODEL:\n",
        "        try:\n",
        "            AutoTokenizer.from_pretrained(TARGET_MODEL, token=os.environ.get(\"HF_TOKEN\"))\n",
        "            print(\"Using Meta-Llama-3-8B-Instruct (ensure you accepted the license).\")\n",
        "            return TARGET_MODEL\n",
        "        except Exception as error:  # noqa: BLE001\n",
        "            print(f\"Falling back to {FALLBACK_MODEL} because Llama 3 load failed: {error}\")\n",
        "    return FALLBACK_MODEL\n",
        "\n",
        "MODEL_ID = choose_model()\n",
        "OUTPUT_DIR = Path(\"outputs\") / \"instruct-generation\"\n",
        "OUTPUT_DIR.mkdir(parents=True, exist_ok=True)\n",
        "\n",
        "prompts = [\n",
        "    \"Summarise the repo's CPU-first philosophy in one sentence.\",\n",
        "    \"Give me two bullet tips for speeding up Transformers inference on CPUs.\",\n",
        "    \"When should I enable 4-bit quantization? Respond in 3 short bullet points.\",\n",
        "]\n"
      ]
    },
    {
      "cell_type": "markdown",
      "metadata": {},
      "source": [
        "## Generate responses\n"
      ]
    },
    {
      "cell_type": "code",
      "metadata": {},
      "execution_count": null,
      "outputs": [],
      "source": [
        "\n",
        "generation_kwargs = {\n",
        "    \"temperature\": 0.7,\n",
        "    \"max_new_tokens\": 128,\n",
        "    \"do_sample\": True,\n",
        "    \"pad_token_id\": None,\n",
        "}\n",
        "\n",
        "torch.manual_seed(42)\n",
        "load_start = time.perf_counter()\n",
        "generator = pipeline(\n",
        "    \"text-generation\",\n",
        "    model=MODEL_ID,\n",
        "    device=DEVICE,\n",
        "    torch_dtype=torch.float32,\n",
        ")\n",
        "load_time = time.perf_counter() - load_start\n",
        "\n",
        "outputs = []\n",
        "for prompt in prompts:\n",
        "    response = generator(prompt, **generation_kwargs)[0][\"generated_text\"]\n",
        "    outputs.append({\"prompt\": prompt, \"response\": response})\n",
        "    print(\"\\n---\\n\")\n",
        "    print(response)\n",
        "\n",
        "with open(OUTPUT_DIR / \"generations.json\", \"w\", encoding=\"utf-8\") as fp:\n",
        "    json.dump(outputs, fp, indent=2)\n"
      ]
    },
    {
      "cell_type": "markdown",
      "metadata": {},
      "source": [
        "## Measurement\n"
      ]
    },
    {
      "cell_type": "code",
      "metadata": {},
      "execution_count": null,
      "outputs": [],
      "source": [
        "\n",
        "def run_inference(recorder):\n",
        "    for idx, prompt in enumerate(prompts):\n",
        "        result = generator(prompt, **generation_kwargs)\n",
        "        if idx == 0:\n",
        "            recorder.mark_first_token()\n",
        "        recorder.add_items(len(result[0][\"generated_text\"].split()))\n",
        "\n",
        "metrics = measure_memory_speed(run_inference)\n",
        "\n",
        "def fmt(value, digits=4):\n",
        "    if value in (None, \"\", float(\"inf\")):\n",
        "        return \"\"\n",
        "    return f\"{value:.{digits}f}\"\n",
        "\n",
        "try:\n",
        "    repo_commit = subprocess.check_output([\"git\", \"rev-parse\", \"HEAD\"], text=True).strip()\n",
        "except Exception:  # noqa: BLE001\n",
        "    repo_commit = \"\"\n",
        "\n",
        "append_benchmark_row(\n",
        "    task=\"instruction-generation\",\n",
        "    model_id=MODEL_ID,\n",
        "    dataset=\"synthetic-prompts\",\n",
        "    sequence_or_image_res=\"128-tokens\",\n",
        "    batch=\"1\",\n",
        "    peak_ram_mb=fmt(metrics.get(\"peak_ram_mb\"), 2),\n",
        "    peak_vram_mb=fmt(metrics.get(\"peak_vram_mb\"), 2),\n",
        "    load_time_s=fmt(load_time, 2),\n",
        "    ttfb_s=fmt(metrics.get(\"ttfb_s\"), 3),\n",
        "    tokens_per_s_or_images_per_s=fmt(metrics.get(\"throughput_per_s\"), 3),\n",
        "    precision=PRECISION,\n",
        "    notebook_path=\"notebooks/nlp/instruct-generation-llama-3-instruct-8b_lite_cpu-first.ipynb\",\n",
        "    repo_commit=repo_commit,\n",
        ")\n",
        "\n",
        "with open(OUTPUT_DIR / \"metrics.json\", \"w\", encoding=\"utf-8\") as fp:\n",
        "    json.dump(metrics, fp, indent=2)\n",
        "metrics\n"
      ]
    },
    {
      "cell_type": "markdown",
      "metadata": {},
      "source": [
        "## Results Summary\n",
        "        - Observations: TODO\n",
        "        - Metrics captured: see `benchmarks/matrix.csv`\n",
        "\n",
        "        ## Next Steps\n",
        "        - TODOs: fill in after benchmarking\n",
        "\n",
        "        ## Repro\n",
        "        - Seed: 42 (set in measurement cell)\n",
        "        - Libraries: captured via `detect_env()`\n",
        "        - Notebook path: `notebooks/nlp/instruct-generation-llama-3-instruct-8b_lite_cpu-first.ipynb`\n",
        "        - Latest commit: populated automatically when appending benchmarks (if git available)\n"
      ]
    }
  ],
  "metadata": {
    "kernelspec": {
      "display_name": "Python 3",
      "language": "python",
      "name": "python3"
    },
    "language_info": {
      "name": "python",
      "version": "3.10",
      "mimetype": "text/x-python",
      "codemirror_mode": {
        "name": "ipython",
        "version": 3
      },
      "pygments_lexer": "ipython3"
    }
  },
  "nbformat": 4,
  "nbformat_minor": 5
}