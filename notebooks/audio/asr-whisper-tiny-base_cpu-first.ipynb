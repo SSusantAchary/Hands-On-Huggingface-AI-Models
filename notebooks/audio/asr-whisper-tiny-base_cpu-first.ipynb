{
  "cells": [
    {
      "cell_type": "markdown",
      "metadata": {},
      "source": [
        "# Speech-to-Text \u2014 Whisper Tiny ASR\n",
        "**TL;DR:** Transcribe short audio clips with Whisper Tiny on CPU and compare with references.\n",
        "\n",
        "**Models & Datasets:** [openai/whisper-tiny](https://huggingface.co/openai/whisper-tiny) (MIT), [LibriSpeech Dummy (toy)](https://huggingface.co/datasets/hf-internal-testing/librispeech_asr_dummy) (CC BY 4.0)\n",
        "**Run Profiles:** \ud83d\udda5\ufe0f CPU | \ud83c\udf4e Metal (Apple Silicon) | \ud83e\uddea Colab/T4 | \u26a1 CUDA GPU\n",
        "**Env (minimal):** python>=3.10, transformers, datasets, evaluate, accelerate (optional: peft, bitsandbytes, timm, diffusers)\n",
        "**Colab:** [Open in Colab](https://colab.research.google.com/github/SSusantAchary/Hands-On-Huggingface-AI-Models/blob/main/notebooks/audio/asr-whisper-tiny-base_cpu-first.ipynb)\n",
        "\n",
        "**Switches (edit in one place):**\n",
        "- `device` = {\"cpu\",\"mps\",\"cuda\"}\n",
        "- `precision` = {\"fp32\",\"fp16\",\"bf16\",\"int8\",\"4bit\"}  (apply only if supported)\n",
        "- `context_len` / `image_res` / `batch_size`\n",
        "\n",
        "**Footprint & Speed (fill after run):**\n",
        "- Peak RAM: TODO\n",
        "- Peak VRAM: TODO (if GPU)\n",
        "- TTFB: TODO, Throughput: TODO, Load time: TODO\n",
        "\n",
        "**Gotchas:** Colab CUDA wheels may mismatch; pin torch/whisper versions ([Fixes & Tips](../fixes-and-tips/colab-cuda-mismatch.md))\n"
      ]
    },
    {
      "cell_type": "markdown",
      "metadata": {},
      "source": [
        "\n",
        "## Setup\n",
        "Load a dummy LibriSpeech slice and prepare the Whisper pipeline.\n"
      ]
    },
    {
      "cell_type": "code",
      "metadata": {},
      "execution_count": null,
      "outputs": [],
      "source": [
        "\n",
        "import json\n",
        "import os\n",
        "import subprocess\n",
        "import time\n",
        "from pathlib import Path\n",
        "\n",
        "import numpy as np\n",
        "import torch\n",
        "from datasets import load_dataset, Audio\n",
        "from evaluate import load as load_metric\n",
        "from transformers import pipeline\n",
        "\n",
        "from notebooks._templates.measure import append_benchmark_row, measure_memory_speed\n",
        "\n",
        "DEVICE_PREFERENCE = os.environ.get(\"HF_DEVICE\", \"cpu\")\n",
        "PRECISION = os.environ.get(\"HF_PRECISION\", \"fp32\")\n",
        "\n",
        "def resolve_device(preference: str = \"cpu\") -> str:\n",
        "    if preference == \"cuda\" and torch.cuda.is_available():\n",
        "        return \"cuda:0\"\n",
        "    if preference == \"mps\" and torch.backends.mps.is_available():\n",
        "        return \"mps\"\n",
        "    return \"cpu\"\n",
        "\n",
        "DEVICE = resolve_device(DEVICE_PREFERENCE)\n",
        "print(f\"Using device={DEVICE}\")\n",
        "\n",
        "MODEL_ID = \"openai/whisper-tiny\"\n",
        "OUTPUT_DIR = Path(\"outputs\") / \"whisper-tiny\"\n",
        "OUTPUT_DIR.mkdir(parents=True, exist_ok=True)\n",
        "\n",
        "dataset = load_dataset(\n",
        "    \"hf-internal-testing/librispeech_asr_dummy\",\n",
        "    \"clean\",\n",
        "    split=\"validation[:4]\",\n",
        ")\n",
        "dataset = dataset.cast_column(\"audio\", Audio(sampling_rate=16000))\n"
      ]
    },
    {
      "cell_type": "markdown",
      "metadata": {},
      "source": [
        "## Transcribe\n"
      ]
    },
    {
      "cell_type": "code",
      "metadata": {},
      "execution_count": null,
      "outputs": [],
      "source": [
        "\n",
        "torch.manual_seed(42)\n",
        "\n",
        "load_start = time.perf_counter()\n",
        "asr = pipeline(\n",
        "    \"automatic-speech-recognition\",\n",
        "    model=MODEL_ID,\n",
        "    device=DEVICE,\n",
        ")\n",
        "load_time = time.perf_counter() - load_start\n",
        "\n",
        "transcripts = []\n",
        "for row in dataset:\n",
        "    audio = row[\"audio\"]\n",
        "    pred = asr({\"array\": audio[\"array\"], \"sampling_rate\": audio[\"sampling_rate\"]})\n",
        "    transcripts.append(\n",
        "        {\n",
        "            \"id\": row[\"id\"],\n",
        "            \"reference\": row[\"text\"],\n",
        "            \"prediction\": pred[\"text\"],\n",
        "        }\n",
        "    )\n",
        "\n",
        "wer_metric = load_metric(\"wer\")\n",
        "wer = wer_metric.compute(\n",
        "    predictions=[row[\"prediction\"].lower() for row in transcripts],\n",
        "    references=[row[\"reference\"].lower() for row in transcripts],\n",
        ")\n",
        "print(f\"WER: {wer:.3f}\")\n",
        "\n",
        "with open(OUTPUT_DIR / \"transcripts.json\", \"w\", encoding=\"utf-8\") as fp:\n",
        "    json.dump(transcripts, fp, indent=2)\n"
      ]
    },
    {
      "cell_type": "markdown",
      "metadata": {},
      "source": [
        "## Measurement\n"
      ]
    },
    {
      "cell_type": "code",
      "metadata": {},
      "execution_count": null,
      "outputs": [],
      "source": [
        "\n",
        "audio_batches = [\n",
        "    {\"array\": row[\"audio\"][\"array\"], \"sampling_rate\": row[\"audio\"][\"sampling_rate\"]}\n",
        "    for row in dataset\n",
        "]\n",
        "\n",
        "def run_inference(recorder):\n",
        "    for idx, audio in enumerate(audio_batches):\n",
        "        result = asr(audio)\n",
        "        if idx == 0:\n",
        "            recorder.mark_first_token()\n",
        "        recorder.add_items(len(result[\"text\"].split()))\n",
        "\n",
        "metrics = measure_memory_speed(run_inference)\n",
        "\n",
        "def fmt(value, digits=4):\n",
        "    if value in (None, \"\", float(\"inf\")):\n",
        "        return \"\"\n",
        "    return f\"{value:.{digits}f}\"\n",
        "\n",
        "try:\n",
        "    repo_commit = subprocess.check_output([\"git\", \"rev-parse\", \"HEAD\"], text=True).strip()\n",
        "except Exception:  # noqa: BLE001\n",
        "    repo_commit = \"\"\n",
        "\n",
        "append_benchmark_row(\n",
        "    task=\"whisper-asr\",\n",
        "    model_id=MODEL_ID,\n",
        "    dataset=\"hf-internal-testing/librispeech_asr_dummy\",\n",
        "    sequence_or_image_res=\"15s@16kHz\",\n",
        "    batch=str(len(audio_batches)),\n",
        "    peak_ram_mb=fmt(metrics.get(\"peak_ram_mb\"), 2),\n",
        "    peak_vram_mb=fmt(metrics.get(\"peak_vram_mb\"), 2),\n",
        "    load_time_s=fmt(load_time, 2),\n",
        "    ttfb_s=fmt(metrics.get(\"ttfb_s\"), 3),\n",
        "    tokens_per_s_or_images_per_s=fmt(metrics.get(\"throughput_per_s\"), 3),\n",
        "    precision=PRECISION,\n",
        "    notebook_path=\"notebooks/audio/asr-whisper-tiny-base_cpu-first.ipynb\",\n",
        "    repo_commit=repo_commit,\n",
        ")\n",
        "\n",
        "with open(OUTPUT_DIR / \"metrics.json\", \"w\", encoding=\"utf-8\") as fp:\n",
        "    json.dump({\"wer\": wer, **metrics}, fp, indent=2)\n",
        "metrics\n"
      ]
    },
    {
      "cell_type": "markdown",
      "metadata": {},
      "source": [
        "## Results Summary\n",
        "        - Observations: TODO\n",
        "        - Metrics captured: see `benchmarks/matrix.csv`\n",
        "\n",
        "        ## Next Steps\n",
        "        - TODOs: fill in after benchmarking\n",
        "\n",
        "        ## Repro\n",
        "        - Seed: 42 (set in measurement cell)\n",
        "        - Libraries: captured via `detect_env()`\n",
        "        - Notebook path: `notebooks/audio/asr-whisper-tiny-base_cpu-first.ipynb`\n",
        "        - Latest commit: populated automatically when appending benchmarks (if git available)\n"
      ]
    }
  ],
  "metadata": {
    "kernelspec": {
      "display_name": "Python 3",
      "language": "python",
      "name": "python3"
    },
    "language_info": {
      "name": "python",
      "version": "3.10",
      "mimetype": "text/x-python",
      "codemirror_mode": {
        "name": "ipython",
        "version": 3
      },
      "pygments_lexer": "ipython3"
    }
  },
  "nbformat": 4,
  "nbformat_minor": 5
}