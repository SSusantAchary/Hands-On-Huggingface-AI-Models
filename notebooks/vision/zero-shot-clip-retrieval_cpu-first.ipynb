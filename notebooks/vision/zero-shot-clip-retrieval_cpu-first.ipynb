{
  "cells": [
    {
      "cell_type": "markdown",
      "metadata": {},
      "source": [
        "# Zero-shot Retrieval \u2014 CLIP text-image matching\n",
        "**TL;DR:** Embed images and text prompts with CLIP to rank matches on CPU, with Metal/CUDA toggles for acceleration.\n",
        "\n",
        "**Models & Datasets:** [openai/clip-vit-base-patch32](https://huggingface.co/openai/clip-vit-base-patch32) (MIT), [Horses or Humans (tiny sample)](https://huggingface.co/datasets/nateraw/horses_or_humans) (Apache-2.0)\n",
        "**Run Profiles:** \ud83d\udda5\ufe0f CPU | \ud83c\udf4e Metal (Apple Silicon) | \ud83e\uddea Colab/T4 | \u26a1 CUDA GPU\n",
        "**Env (minimal):** python>=3.10, transformers, datasets, evaluate, accelerate (optional: peft, bitsandbytes, timm, diffusers)\n",
        "**Colab:** [Open in Colab](https://colab.research.google.com/github/SSusantAchary/Hands-On-Huggingface-AI-Models/blob/main/notebooks/vision/zero-shot-clip-retrieval_cpu-first.ipynb)\n",
        "\n",
        "**Switches (edit in one place):**\n",
        "- `device` = {\"cpu\",\"mps\",\"cuda\"}\n",
        "- `precision` = {\"fp32\",\"fp16\",\"bf16\",\"int8\",\"4bit\"}  (apply only if supported)\n",
        "- `context_len` / `image_res` / `batch_size`\n",
        "\n",
        "**Footprint & Speed (fill after run):**\n",
        "- Peak RAM: TODO\n",
        "- Peak VRAM: TODO (if GPU)\n",
        "- TTFB: TODO, Throughput: TODO, Load time: TODO\n",
        "\n",
        "**Gotchas:** Metal fallback ensures CLIP works even without MPS ([Fixes & Tips](../fixes-and-tips/metal-backend-fallback.md))\n"
      ]
    },
    {
      "cell_type": "markdown",
      "metadata": {},
      "source": [
        "\n",
        "## Setup\n",
        "Fetch a tiny set of images and prepare CLIP for retrieval.\n"
      ]
    },
    {
      "cell_type": "code",
      "metadata": {},
      "execution_count": null,
      "outputs": [],
      "source": [
        "\n",
        "import json\n",
        "import os\n",
        "import subprocess\n",
        "import time\n",
        "from pathlib import Path\n",
        "\n",
        "import numpy as np\n",
        "import pandas as pd\n",
        "import torch\n",
        "from datasets import load_dataset\n",
        "from PIL import Image\n",
        "from transformers import CLIPModel, CLIPProcessor\n",
        "\n",
        "from notebooks._templates.measure import append_benchmark_row, measure_memory_speed\n",
        "\n",
        "DEVICE_PREFERENCE = os.environ.get(\"HF_DEVICE\", \"cpu\")\n",
        "PRECISION = os.environ.get(\"HF_PRECISION\", \"fp32\")\n",
        "\n",
        "def resolve_device(preference: str = \"cpu\") -> torch.device:\n",
        "    if preference == \"cuda\" and torch.cuda.is_available():\n",
        "        return torch.device(\"cuda\")\n",
        "    if preference == \"mps\" and torch.backends.mps.is_available():\n",
        "        return torch.device(\"mps\")\n",
        "    return torch.device(\"cpu\")\n",
        "\n",
        "DEVICE = resolve_device(DEVICE_PREFERENCE)\n",
        "print(f\"Using device={DEVICE}\")\n",
        "\n",
        "MODEL_ID = \"openai/clip-vit-base-patch32\"\n",
        "OUTPUT_DIR = Path(\"outputs\") / \"clip-retrieval\"\n",
        "OUTPUT_DIR.mkdir(parents=True, exist_ok=True)\n",
        "\n",
        "dataset = load_dataset(\"nateraw/horses_or_humans\", split=\"train[:4]\")\n",
        "images = [Image.fromarray(item[\"image\"]) for item in dataset]\n",
        "text_queries = [\n",
        "    \"A person performing yoga outdoors\",\n",
        "    \"A horse jumping over a barrier\",\n",
        "    \"A close-up portrait of a human face\",\n",
        "]\n"
      ]
    },
    {
      "cell_type": "markdown",
      "metadata": {},
      "source": [
        "## Embed & score\n"
      ]
    },
    {
      "cell_type": "code",
      "metadata": {},
      "execution_count": null,
      "outputs": [],
      "source": [
        "\n",
        "torch.manual_seed(42)\n",
        "\n",
        "load_start = time.perf_counter()\n",
        "processor = CLIPProcessor.from_pretrained(MODEL_ID)\n",
        "model = CLIPModel.from_pretrained(MODEL_ID).to(DEVICE)\n",
        "load_time = time.perf_counter() - load_start\n",
        "\n",
        "def embed_images(batch):\n",
        "    inputs = processor(images=batch, return_tensors=\"pt\").to(DEVICE)\n",
        "    with torch.inference_mode():\n",
        "        features = model.get_image_features(**inputs)\n",
        "    return features / features.norm(dim=-1, keepdim=True)\n",
        "\n",
        "def embed_text(batch):\n",
        "    inputs = processor(text=batch, return_tensors=\"pt\", padding=True).to(DEVICE)\n",
        "    with torch.inference_mode():\n",
        "        features = model.get_text_features(**inputs)\n",
        "    return features / features.norm(dim=-1, keepdim=True)\n",
        "\n",
        "image_embeddings = embed_images(images)\n",
        "text_embeddings = embed_text(text_queries)\n",
        "\n",
        "sims = (text_embeddings @ image_embeddings.T).cpu().numpy()\n",
        "df = pd.DataFrame(\n",
        "    sims,\n",
        "    columns=[f\"image_{idx}\" for idx in range(len(images))],\n",
        "    index=text_queries,\n",
        ")\n",
        "display(df.style.format(\"{:.3f}\"))\n",
        "\n",
        "rankings = {\n",
        "    query: df.loc[query].nlargest(3).index.tolist()\n",
        "    for query in text_queries\n",
        "}\n",
        "print(json.dumps(rankings, indent=2))\n"
      ]
    },
    {
      "cell_type": "markdown",
      "metadata": {},
      "source": [
        "## Measurement\n"
      ]
    },
    {
      "cell_type": "code",
      "metadata": {},
      "execution_count": null,
      "outputs": [],
      "source": [
        "\n",
        "def run_inference(recorder):\n",
        "    img_feat = embed_images(images)\n",
        "    txt_feat = embed_text(text_queries)\n",
        "    recorder.mark_first_token()\n",
        "    recorder.add_items(len(text_queries) * len(images))\n",
        "    return img_feat, txt_feat\n",
        "\n",
        "metrics = measure_memory_speed(run_inference)\n",
        "\n",
        "def fmt(value, digits=4):\n",
        "    if value in (None, \"\", float(\"inf\")):\n",
        "        return \"\"\n",
        "    return f\"{value:.{digits}f}\"\n",
        "\n",
        "try:\n",
        "    repo_commit = subprocess.check_output([\"git\", \"rev-parse\", \"HEAD\"], text=True).strip()\n",
        "except Exception:  # noqa: BLE001\n",
        "    repo_commit = \"\"\n",
        "\n",
        "append_benchmark_row(\n",
        "    task=\"clip-retrieval\",\n",
        "    model_id=MODEL_ID,\n",
        "    dataset=\"nateraw/horses_or_humans\",\n",
        "    sequence_or_image_res=\"224x224\",\n",
        "    batch=str(len(images)),\n",
        "    peak_ram_mb=fmt(metrics.get(\"peak_ram_mb\"), 2),\n",
        "    peak_vram_mb=fmt(metrics.get(\"peak_vram_mb\"), 2),\n",
        "    load_time_s=fmt(load_time, 2),\n",
        "    ttfb_s=fmt(metrics.get(\"ttfb_s\"), 3),\n",
        "    tokens_per_s_or_images_per_s=fmt(metrics.get(\"throughput_per_s\"), 3),\n",
        "    precision=PRECISION,\n",
        "    notebook_path=\"notebooks/vision/zero-shot-clip-retrieval_cpu-first.ipynb\",\n",
        "    repo_commit=repo_commit,\n",
        ")\n",
        "\n",
        "with open(OUTPUT_DIR / \"metrics.json\", \"w\", encoding=\"utf-8\") as fp:\n",
        "    json.dump(metrics, fp, indent=2)\n",
        "metrics\n"
      ]
    },
    {
      "cell_type": "markdown",
      "metadata": {},
      "source": [
        "## Results Summary\n",
        "        - Observations: TODO\n",
        "        - Metrics captured: see `benchmarks/matrix.csv`\n",
        "\n",
        "        ## Next Steps\n",
        "        - TODOs: fill in after benchmarking\n",
        "\n",
        "        ## Repro\n",
        "        - Seed: 42 (set in measurement cell)\n",
        "        - Libraries: captured via `detect_env()`\n",
        "        - Notebook path: `notebooks/vision/zero-shot-clip-retrieval_cpu-first.ipynb`\n",
        "        - Latest commit: populated automatically when appending benchmarks (if git available)\n"
      ]
    }
  ],
  "metadata": {
    "kernelspec": {
      "display_name": "Python 3",
      "language": "python",
      "name": "python3"
    },
    "language_info": {
      "name": "python",
      "version": "3.10",
      "mimetype": "text/x-python",
      "codemirror_mode": {
        "name": "ipython",
        "version": 3
      },
      "pygments_lexer": "ipython3"
    }
  },
  "nbformat": 4,
  "nbformat_minor": 5
}