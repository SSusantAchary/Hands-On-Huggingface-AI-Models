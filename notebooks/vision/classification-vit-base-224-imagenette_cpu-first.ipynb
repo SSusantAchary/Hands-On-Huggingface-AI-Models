{
  "cells": [
    {
      "cell_type": "markdown",
      "metadata": {},
      "source": [
        "# Image Classification \u2014 ViT Base on Imagenette\n",
        "**TL;DR:** Compare zero-shot ViT predictions on Imagenette samples with CPU-first defaults.\n",
        "\n",
        "**Models & Datasets:** [google/vit-base-patch16-224](https://huggingface.co/google/vit-base-patch16-224) (Apache-2.0), [Imagenette (validation split)](https://huggingface.co/datasets/frgfm/imagenette) (Apache-2.0)\n",
        "**Run Profiles:** \ud83d\udda5\ufe0f CPU | \ud83c\udf4e Metal (Apple Silicon) | \ud83e\uddea Colab/T4 | \u26a1 CUDA GPU\n",
        "**Env (minimal):** python>=3.10, transformers, datasets, evaluate, accelerate (optional: peft, bitsandbytes, timm, diffusers)\n",
        "**Colab:** [Open in Colab](https://colab.research.google.com/github/SSusantAchary/Hands-On-Huggingface-AI-Models/blob/main/notebooks/vision/classification-vit-base-224-imagenette_cpu-first.ipynb)\n",
        "\n",
        "**Switches (edit in one place):**\n",
        "- `device` = {\"cpu\",\"mps\",\"cuda\"}\n",
        "- `precision` = {\"fp32\",\"fp16\",\"bf16\",\"int8\",\"4bit\"}  (apply only if supported)\n",
        "- `context_len` / `image_res` / `batch_size`\n",
        "\n",
        "**Footprint & Speed (fill after run):**\n",
        "- Peak RAM: TODO\n",
        "- Peak VRAM: TODO (if GPU)\n",
        "- TTFB: TODO, Throughput: TODO, Load time: TODO\n",
        "\n",
        "**Gotchas:** Disable torch.compile on MPS until PyTorch resolves precision drift ([Fixes & Tips](../fixes-and-tips/torch-compile-mps-quirks.md))\n"
      ]
    },
    {
      "cell_type": "markdown",
      "metadata": {},
      "source": [
        "\n",
        "## Setup\n",
        "Load a small Imagenette validation slice and prepare the ViT classifier.\n"
      ]
    },
    {
      "cell_type": "code",
      "metadata": {},
      "execution_count": null,
      "outputs": [],
      "source": [
        "\n",
        "import json\n",
        "import os\n",
        "import subprocess\n",
        "import time\n",
        "from collections import Counter\n",
        "from pathlib import Path\n",
        "\n",
        "import pandas as pd\n",
        "import torch\n",
        "from datasets import load_dataset\n",
        "from transformers import pipeline\n",
        "\n",
        "from notebooks._templates.measure import append_benchmark_row, measure_memory_speed\n",
        "\n",
        "DEVICE_PREFERENCE = os.environ.get(\"HF_DEVICE\", \"cpu\")\n",
        "PRECISION = os.environ.get(\"HF_PRECISION\", \"fp32\")\n",
        "BATCH_SIZE = int(os.environ.get(\"HF_BATCH\", \"4\"))\n",
        "\n",
        "def resolve_device(preference: str = \"cpu\") -> str:\n",
        "    if preference == \"cuda\" and torch.cuda.is_available():\n",
        "        return \"cuda:0\"\n",
        "    if preference == \"mps\" and torch.backends.mps.is_available():\n",
        "        return \"mps\"\n",
        "    return \"cpu\"\n",
        "\n",
        "DEVICE = resolve_device(DEVICE_PREFERENCE)\n",
        "print(f\"Using device={DEVICE}\")\n",
        "\n",
        "MODEL_ID = \"google/vit-base-patch16-224\"\n",
        "DATASET_ID = \"frgfm/imagenette\"\n",
        "SPLIT = \"validation[:16]\"\n",
        "OUTPUT_DIR = Path(\"outputs\") / \"vit-imagenette\"\n",
        "OUTPUT_DIR.mkdir(parents=True, exist_ok=True)\n",
        "\n",
        "ds = load_dataset(DATASET_ID, split=SPLIT)\n",
        "id2label = ds.features[\"label\"].int2str\n",
        "images = ds[\"image\"]\n",
        "labels = ds[\"label\"]\n",
        "true_labels = [id2label(idx) for idx in labels]\n"
      ]
    },
    {
      "cell_type": "markdown",
      "metadata": {},
      "source": [
        "## Classify\n"
      ]
    },
    {
      "cell_type": "code",
      "metadata": {},
      "execution_count": null,
      "outputs": [],
      "source": [
        "\n",
        "torch.manual_seed(42)\n",
        "\n",
        "load_start = time.perf_counter()\n",
        "classifier = pipeline(\n",
        "    \"image-classification\",\n",
        "    model=MODEL_ID,\n",
        "    device=DEVICE,\n",
        "    top_k=1,\n",
        ")\n",
        "load_time = time.perf_counter() - load_start\n",
        "\n",
        "predictions = classifier(images)\n",
        "pred_labels = [pred[0][\"label\"] if isinstance(pred, list) else pred[\"label\"] for pred in predictions]\n",
        "\n",
        "accuracy = sum(pl == tl for pl, tl in zip(pred_labels, true_labels)) / len(true_labels)\n",
        "print(f\"Accuracy on {len(true_labels)} samples: {accuracy:.3f}\")\n",
        "\n",
        "confusion = (\n",
        "    pd.crosstab(pd.Series(true_labels, name=\"true\"), pd.Series(pred_labels, name=\"pred\"))\n",
        "    .reindex(index=sorted(set(true_labels)), columns=sorted(set(pred_labels)))\n",
        "    .fillna(0)\n",
        ")\n",
        "display(confusion)\n",
        "\n",
        "results = pd.DataFrame(\n",
        "    {\n",
        "        \"true_label\": true_labels,\n",
        "        \"pred_label\": pred_labels,\n",
        "        \"score\": [pred[0][\"score\"] if isinstance(pred, list) else pred[\"score\"] for pred in predictions],\n",
        "    }\n",
        ")\n",
        "results.to_csv(OUTPUT_DIR / \"predictions.csv\", index=False)\n"
      ]
    },
    {
      "cell_type": "markdown",
      "metadata": {},
      "source": [
        "## Measurement\n"
      ]
    },
    {
      "cell_type": "code",
      "metadata": {},
      "execution_count": null,
      "outputs": [],
      "source": [
        "\n",
        "def run_inference(recorder):\n",
        "    outputs = classifier(images)\n",
        "    if outputs:\n",
        "        recorder.mark_first_token()\n",
        "    recorder.add_items(len(outputs))\n",
        "\n",
        "metrics = measure_memory_speed(run_inference)\n",
        "\n",
        "def fmt(value, digits=4):\n",
        "    if value in (None, \"\", float(\"inf\")):\n",
        "        return \"\"\n",
        "    return f\"{value:.{digits}f}\"\n",
        "\n",
        "try:\n",
        "    repo_commit = subprocess.check_output([\"git\", \"rev-parse\", \"HEAD\"], text=True).strip()\n",
        "except Exception:  # noqa: BLE001\n",
        "    repo_commit = \"\"\n",
        "\n",
        "append_benchmark_row(\n",
        "    task=\"imagenette-classification\",\n",
        "    model_id=MODEL_ID,\n",
        "    dataset=DATASET_ID,\n",
        "    sequence_or_image_res=\"224x224\",\n",
        "    batch=str(BATCH_SIZE),\n",
        "    peak_ram_mb=fmt(metrics.get(\"peak_ram_mb\"), 2),\n",
        "    peak_vram_mb=fmt(metrics.get(\"peak_vram_mb\"), 2),\n",
        "    load_time_s=fmt(load_time, 2),\n",
        "    ttfb_s=fmt(metrics.get(\"ttfb_s\"), 3),\n",
        "    tokens_per_s_or_images_per_s=fmt(metrics.get(\"throughput_per_s\"), 3),\n",
        "    precision=PRECISION,\n",
        "    notebook_path=\"notebooks/vision/classification-vit-base-224-imagenette_cpu-first.ipynb\",\n",
        "    repo_commit=repo_commit,\n",
        ")\n",
        "\n",
        "with open(OUTPUT_DIR / \"metrics.json\", \"w\", encoding=\"utf-8\") as fp:\n",
        "    json.dump(metrics, fp, indent=2)\n",
        "metrics\n"
      ]
    },
    {
      "cell_type": "markdown",
      "metadata": {},
      "source": [
        "## Results Summary\n",
        "        - Observations: TODO\n",
        "        - Metrics captured: see `benchmarks/matrix.csv`\n",
        "\n",
        "        ## Next Steps\n",
        "        - TODOs: fill in after benchmarking\n",
        "\n",
        "        ## Repro\n",
        "        - Seed: 42 (set in measurement cell)\n",
        "        - Libraries: captured via `detect_env()`\n",
        "        - Notebook path: `notebooks/vision/classification-vit-base-224-imagenette_cpu-first.ipynb`\n",
        "        - Latest commit: populated automatically when appending benchmarks (if git available)\n"
      ]
    }
  ],
  "metadata": {
    "kernelspec": {
      "display_name": "Python 3",
      "language": "python",
      "name": "python3"
    },
    "language_info": {
      "name": "python",
      "version": "3.10",
      "mimetype": "text/x-python",
      "codemirror_mode": {
        "name": "ipython",
        "version": 3
      },
      "pygments_lexer": "ipython3"
    }
  },
  "nbformat": 4,
  "nbformat_minor": 5
}