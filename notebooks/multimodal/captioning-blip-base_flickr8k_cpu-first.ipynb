{
  "cells": [
    {
      "cell_type": "markdown",
      "metadata": {},
      "source": [
        "# Image Captioning \u2014 BLIP Base on Flickr8k\n",
        "**TL;DR:** Generate captions for Flickr8k samples with BLIP and compute a toy BLEU score.\n",
        "\n",
        "**Models & Datasets:** [Salesforce/blip-image-captioning-base](https://huggingface.co/Salesforce/blip-image-captioning-base) (BSD-3-Clause), [Flickr8k (test subset)](https://huggingface.co/datasets/flickr8k) (Creative Commons)\n",
        "**Run Profiles:** \ud83d\udda5\ufe0f CPU | \ud83c\udf4e Metal (Apple Silicon) | \ud83e\uddea Colab/T4 | \u26a1 CUDA GPU\n",
        "**Env (minimal):** python>=3.10, transformers, datasets, evaluate, accelerate (optional: peft, bitsandbytes, timm, diffusers)\n",
        "**Colab:** [Open in Colab](https://colab.research.google.com/github/SSusantAchary/Hands-On-Huggingface-AI-Models/blob/main/notebooks/multimodal/captioning-blip-base_flickr8k_cpu-first.ipynb)\n",
        "\n",
        "**Switches (edit in one place):**\n",
        "- `device` = {\"cpu\",\"mps\",\"cuda\"}\n",
        "- `precision` = {\"fp32\",\"fp16\",\"bf16\",\"int8\",\"4bit\"}  (apply only if supported)\n",
        "- `context_len` / `image_res` / `batch_size`\n",
        "\n",
        "**Footprint & Speed (fill after run):**\n",
        "- Peak RAM: TODO\n",
        "- Peak VRAM: TODO (if GPU)\n",
        "- TTFB: TODO, Throughput: TODO, Load time: TODO\n",
        "\n",
        "**Gotchas:** Long captions may need truncation to avoid tokenizer overflow ([Fixes & Tips](../fixes-and-tips/tokenizer-context-oom.md))\n"
      ]
    },
    {
      "cell_type": "markdown",
      "metadata": {},
      "source": [
        "\n",
        "## Setup\n",
        "Fetch a few Flickr8k images and prepare BLIP for captioning.\n"
      ]
    },
    {
      "cell_type": "code",
      "metadata": {},
      "execution_count": null,
      "outputs": [],
      "source": [
        "\n",
        "import json\n",
        "import os\n",
        "import subprocess\n",
        "import time\n",
        "from pathlib import Path\n",
        "\n",
        "import numpy as np\n",
        "import pandas as pd\n",
        "import torch\n",
        "from datasets import load_dataset\n",
        "from evaluate import load as load_metric\n",
        "from transformers import pipeline\n",
        "\n",
        "from notebooks._templates.measure import append_benchmark_row, measure_memory_speed\n",
        "\n",
        "DEVICE_PREFERENCE = os.environ.get(\"HF_DEVICE\", \"cpu\")\n",
        "PRECISION = os.environ.get(\"HF_PRECISION\", \"fp32\")\n",
        "\n",
        "def resolve_device(preference: str = \"cpu\") -> str:\n",
        "    if preference == \"cuda\" and torch.cuda.is_available():\n",
        "        return \"cuda:0\"\n",
        "    if preference == \"mps\" and torch.backends.mps.is_available():\n",
        "        return \"mps\"\n",
        "    return \"cpu\"\n",
        "\n",
        "DEVICE = resolve_device(DEVICE_PREFERENCE)\n",
        "print(f\"Using device={DEVICE}\")\n",
        "\n",
        "MODEL_ID = \"Salesforce/blip-image-captioning-base\"\n",
        "OUTPUT_DIR = Path(\"outputs\") / \"blip-captioning\"\n",
        "OUTPUT_DIR.mkdir(parents=True, exist_ok=True)\n",
        "\n",
        "dataset = load_dataset(\"flickr8k\", split=\"test[:4]\")\n",
        "images = dataset[\"image\"]\n",
        "references = [ann[0][\"raw\"] for ann in dataset[\"annotations\"]]\n"
      ]
    },
    {
      "cell_type": "markdown",
      "metadata": {},
      "source": [
        "## Generate captions\n"
      ]
    },
    {
      "cell_type": "code",
      "metadata": {},
      "execution_count": null,
      "outputs": [],
      "source": [
        "\n",
        "torch.manual_seed(42)\n",
        "\n",
        "load_start = time.perf_counter()\n",
        "captioner = pipeline(\n",
        "    \"image-to-text\",\n",
        "    model=MODEL_ID,\n",
        "    device=DEVICE,\n",
        "    max_new_tokens=32,\n",
        ")\n",
        "load_time = time.perf_counter() - load_start\n",
        "\n",
        "captions = [captioner(image)[0][\"generated_text\"] for image in images]\n",
        "\n",
        "df = pd.DataFrame(\n",
        "    {\n",
        "        \"caption\": captions,\n",
        "        \"reference\": references,\n",
        "    }\n",
        ")\n",
        "display(df)\n",
        "\n",
        "bleu = load_metric(\"bleu\")\n",
        "tokenised_preds = [caption.split() for caption in captions]\n",
        "tokenised_refs = [[ref.split()] for ref in references]\n",
        "bleu_score = bleu.compute(predictions=tokenised_preds, references=tokenised_refs)[\"bleu\"]\n",
        "print(f\"Toy BLEU: {bleu_score:.3f}\")\n",
        "\n",
        "df.to_csv(OUTPUT_DIR / \"captions.csv\", index=False)\n"
      ]
    },
    {
      "cell_type": "markdown",
      "metadata": {},
      "source": [
        "## Measurement\n"
      ]
    },
    {
      "cell_type": "code",
      "metadata": {},
      "execution_count": null,
      "outputs": [],
      "source": [
        "\n",
        "def run_inference(recorder):\n",
        "    outputs = [captioner(image)[0][\"generated_text\"] for image in images]\n",
        "    if outputs:\n",
        "        recorder.mark_first_token()\n",
        "    recorder.add_items(sum(len(out.split()) for out in outputs))\n",
        "\n",
        "metrics = measure_memory_speed(run_inference)\n",
        "\n",
        "def fmt(value, digits=4):\n",
        "    if value in (None, \"\", float(\"inf\")):\n",
        "        return \"\"\n",
        "    return f\"{value:.{digits}f}\"\n",
        "\n",
        "try:\n",
        "    repo_commit = subprocess.check_output([\"git\", \"rev-parse\", \"HEAD\"], text=True).strip()\n",
        "except Exception:  # noqa: BLE001\n",
        "    repo_commit = \"\"\n",
        "\n",
        "append_benchmark_row(\n",
        "    task=\"image-captioning\",\n",
        "    model_id=MODEL_ID,\n",
        "    dataset=\"flickr8k\",\n",
        "    sequence_or_image_res=\"varied\",\n",
        "    batch=str(len(images)),\n",
        "    peak_ram_mb=fmt(metrics.get(\"peak_ram_mb\"), 2),\n",
        "    peak_vram_mb=fmt(metrics.get(\"peak_vram_mb\"), 2),\n",
        "    load_time_s=fmt(load_time, 2),\n",
        "    ttfb_s=fmt(metrics.get(\"ttfb_s\"), 3),\n",
        "    tokens_per_s_or_images_per_s=fmt(metrics.get(\"throughput_per_s\"), 3),\n",
        "    precision=PRECISION,\n",
        "    notebook_path=\"notebooks/multimodal/captioning-blip-base_flickr8k_cpu-first.ipynb\",\n",
        "    repo_commit=repo_commit,\n",
        ")\n",
        "\n",
        "with open(OUTPUT_DIR / \"metrics.json\", \"w\", encoding=\"utf-8\") as fp:\n",
        "    json.dump({\"bleu\": bleu_score, **metrics}, fp, indent=2)\n",
        "metrics\n"
      ]
    },
    {
      "cell_type": "markdown",
      "metadata": {},
      "source": [
        "## Results Summary\n",
        "        - Observations: TODO\n",
        "        - Metrics captured: see `benchmarks/matrix.csv`\n",
        "\n",
        "        ## Next Steps\n",
        "        - TODOs: fill in after benchmarking\n",
        "\n",
        "        ## Repro\n",
        "        - Seed: 42 (set in measurement cell)\n",
        "        - Libraries: captured via `detect_env()`\n",
        "        - Notebook path: `notebooks/multimodal/captioning-blip-base_flickr8k_cpu-first.ipynb`\n",
        "        - Latest commit: populated automatically when appending benchmarks (if git available)\n"
      ]
    }
  ],
  "metadata": {
    "kernelspec": {
      "display_name": "Python 3",
      "language": "python",
      "name": "python3"
    },
    "language_info": {
      "name": "python",
      "version": "3.10",
      "mimetype": "text/x-python",
      "codemirror_mode": {
        "name": "ipython",
        "version": 3
      },
      "pygments_lexer": "ipython3"
    }
  },
  "nbformat": 4,
  "nbformat_minor": 5
}