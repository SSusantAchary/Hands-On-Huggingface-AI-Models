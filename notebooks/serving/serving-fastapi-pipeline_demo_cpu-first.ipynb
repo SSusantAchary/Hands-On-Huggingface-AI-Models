{
  "cells": [
    {
      "cell_type": "markdown",
      "metadata": {},
      "source": [
        "# Serving Demo \u2014 FastAPI + Transformers pipeline\n",
        "**TL;DR:** Expose a sentiment pipeline via FastAPI, test with an in-notebook client, and benchmark the core inference.\n",
        "\n",
        "**Models & Datasets:** [distilbert-base-uncased-finetuned-sst-2-english](https://huggingface.co/distilbert-base-uncased-finetuned-sst-2-english) (Apache-2.0), [IMDB samples](https://huggingface.co/datasets/imdb) (CC BY-NC 4.0)\n",
        "**Run Profiles:** \ud83d\udda5\ufe0f CPU | \ud83c\udf4e Metal (Apple Silicon) | \ud83e\uddea Colab/T4 | \u26a1 CUDA GPU\n",
        "**Env (minimal):** python>=3.10, transformers, datasets, evaluate, accelerate (optional: peft, bitsandbytes, timm, diffusers)\n",
        "**Colab:** [Open in Colab](https://colab.research.google.com/github/SSusantAchary/Hands-On-Huggingface-AI-Models/blob/main/notebooks/serving/serving-fastapi-pipeline_demo_cpu-first.ipynb)\n",
        "\n",
        "**Switches (edit in one place):**\n",
        "- `device` = {\"cpu\",\"mps\",\"cuda\"}\n",
        "- `precision` = {\"fp32\",\"fp16\",\"bf16\",\"int8\",\"4bit\"}  (apply only if supported)\n",
        "- `context_len` / `image_res` / `batch_size`\n",
        "\n",
        "**Footprint & Speed (fill after run):**\n",
        "- Peak RAM: TODO\n",
        "- Peak VRAM: TODO (if GPU)\n",
        "- TTFB: TODO, Throughput: TODO, Load time: TODO\n",
        "\n",
        "**Gotchas:** Use FastAPI TestClient inside notebooks to avoid event loop clashes ([Fixes & Tips](../fixes-and-tips/fastapi-local-run.md))\n"
      ]
    },
    {
      "cell_type": "markdown",
      "metadata": {},
      "source": [
        "\n",
        "## Setup\n",
        "Load the sentiment pipeline and initialise a FastAPI app.\n"
      ]
    },
    {
      "cell_type": "code",
      "metadata": {},
      "execution_count": null,
      "outputs": [],
      "source": [
        "\n",
        "import json\n",
        "import os\n",
        "import subprocess\n",
        "import time\n",
        "from pathlib import Path\n",
        "from typing import Dict\n",
        "\n",
        "import torch\n",
        "from datasets import load_dataset\n",
        "from transformers import pipeline\n",
        "\n",
        "from notebooks._templates.measure import append_benchmark_row, measure_memory_speed\n",
        "\n",
        "try:\n",
        "    from fastapi import FastAPI\n",
        "    from pydantic import BaseModel\n",
        "    from fastapi.testclient import TestClient\n",
        "except ImportError as exc:  # noqa: BLE001\n",
        "    raise RuntimeError(\"Install fastapi and pydantic to run this notebook\") from exc\n",
        "\n",
        "DEVICE_PREFERENCE = os.environ.get(\"HF_DEVICE\", \"cpu\")\n",
        "PRECISION = os.environ.get(\"HF_PRECISION\", \"fp32\")\n",
        "\n",
        "def resolve_device(preference: str = \"cpu\") -> str:\n",
        "    if preference == \"cuda\" and torch.cuda.is_available():\n",
        "        return \"cuda:0\"\n",
        "    if preference == \"mps\" and torch.backends.mps.is_available():\n",
        "        return \"mps\"\n",
        "    return \"cpu\"\n",
        "\n",
        "DEVICE = resolve_device(DEVICE_PREFERENCE)\n",
        "print(f\"Using device={DEVICE}\")\n",
        "\n",
        "MODEL_ID = \"distilbert-base-uncased-finetuned-sst-2-english\"\n",
        "OUTPUT_DIR = Path(\"outputs\") / \"fastapi-serving\"\n",
        "OUTPUT_DIR.mkdir(parents=True, exist_ok=True)\n",
        "\n",
        "sample_texts = load_dataset(\"imdb\", split=\"test[:4]\")[\"text\"]\n"
      ]
    },
    {
      "cell_type": "markdown",
      "metadata": {},
      "source": [
        "## Build the API\n"
      ]
    },
    {
      "cell_type": "code",
      "metadata": {},
      "execution_count": null,
      "outputs": [],
      "source": [
        "\n",
        "torch.manual_seed(42)\n",
        "\n",
        "load_start = time.perf_counter()\n",
        "classifier = pipeline(\n",
        "    \"text-classification\",\n",
        "    model=MODEL_ID,\n",
        "    device=DEVICE,\n",
        "    top_k=1,\n",
        ")\n",
        "load_time = time.perf_counter() - load_start\n",
        "\n",
        "app = FastAPI(title=\"Sentiment Demo\")\n",
        "\n",
        "class Request(BaseModel):\n",
        "    text: str\n",
        "\n",
        "@app.post(\"/predict\")\n",
        "def predict(request: Request) -> Dict[str, str]:\n",
        "    pred = classifier(request.text)[0]\n",
        "    return {\"label\": pred[\"label\"], \"score\": f\"{pred['score']:.4f}\"}\n",
        "\n",
        "client = TestClient(app)\n",
        "\n",
        "payload = {\"text\": \"I love CPU-friendly ML demos.\"}\n",
        "response = client.post(\"/predict\", json=payload)\n",
        "response.json()\n"
      ]
    },
    {
      "cell_type": "markdown",
      "metadata": {},
      "source": [
        "## Measurement\n"
      ]
    },
    {
      "cell_type": "code",
      "metadata": {},
      "execution_count": null,
      "outputs": [],
      "source": [
        "\n",
        "def run_inference(recorder):\n",
        "    for idx, text in enumerate(sample_texts):\n",
        "        _ = classifier(text)\n",
        "        if idx == 0:\n",
        "            recorder.mark_first_token()\n",
        "        recorder.add_items(1)\n",
        "\n",
        "metrics = measure_memory_speed(run_inference)\n",
        "\n",
        "def fmt(value, digits=4):\n",
        "    if value in (None, \"\", float(\"inf\")):\n",
        "        return \"\"\n",
        "    return f\"{value:.{digits}f}\"\n",
        "\n",
        "try:\n",
        "    repo_commit = subprocess.check_output([\"git\", \"rev-parse\", \"HEAD\"], text=True).strip()\n",
        "except Exception:  # noqa: BLE001\n",
        "    repo_commit = \"\"\n",
        "\n",
        "append_benchmark_row(\n",
        "    task=\"fastapi-serving\",\n",
        "    model_id=MODEL_ID,\n",
        "    dataset=\"imdb\",\n",
        "    sequence_or_image_res=\"256-tokens\",\n",
        "    batch=\"1\",\n",
        "    peak_ram_mb=fmt(metrics.get(\"peak_ram_mb\"), 2),\n",
        "    peak_vram_mb=fmt(metrics.get(\"peak_vram_mb\"), 2),\n",
        "    load_time_s=fmt(load_time, 2),\n",
        "    ttfb_s=fmt(metrics.get(\"ttfb_s\"), 3),\n",
        "    tokens_per_s_or_images_per_s=fmt(metrics.get(\"throughput_per_s\"), 3),\n",
        "    precision=PRECISION,\n",
        "    notebook_path=\"notebooks/serving/serving-fastapi-pipeline_demo_cpu-first.ipynb\",\n",
        "    repo_commit=repo_commit,\n",
        ")\n",
        "\n",
        "with open(OUTPUT_DIR / \"metrics.json\", \"w\", encoding=\"utf-8\") as fp:\n",
        "    json.dump(metrics, fp, indent=2)\n",
        "metrics\n"
      ]
    },
    {
      "cell_type": "markdown",
      "metadata": {},
      "source": [
        "## Results Summary\n",
        "        - Observations: TODO\n",
        "        - Metrics captured: see `benchmarks/matrix.csv`\n",
        "\n",
        "        ## Next Steps\n",
        "        - TODOs: fill in after benchmarking\n",
        "\n",
        "        ## Repro\n",
        "        - Seed: 42 (set in measurement cell)\n",
        "        - Libraries: captured via `detect_env()`\n",
        "        - Notebook path: `notebooks/serving/serving-fastapi-pipeline_demo_cpu-first.ipynb`\n",
        "        - Latest commit: populated automatically when appending benchmarks (if git available)\n"
      ]
    }
  ],
  "metadata": {
    "kernelspec": {
      "display_name": "Python 3",
      "language": "python",
      "name": "python3"
    },
    "language_info": {
      "name": "python",
      "version": "3.10",
      "mimetype": "text/x-python",
      "codemirror_mode": {
        "name": "ipython",
        "version": 3
      },
      "pygments_lexer": "ipython3"
    }
  },
  "nbformat": 4,
  "nbformat_minor": 5
}