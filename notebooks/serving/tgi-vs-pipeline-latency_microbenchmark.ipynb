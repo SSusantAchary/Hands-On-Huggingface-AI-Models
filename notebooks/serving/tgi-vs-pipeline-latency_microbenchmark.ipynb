{
  "cells": [
    {
      "cell_type": "markdown",
      "metadata": {},
      "source": [
        "# Latency Microbenchmark \u2014 TGI vs. Transformers pipeline (concept)\n",
        "**TL;DR:** Capture baseline pipeline latency on CPU and scaffold fields for future Text Generation Inference runs.\n",
        "\n",
        "**Models & Datasets:** [Text Generation Inference (pending)](https://huggingface.co/docs/text-generation-inference/index) (Apache-2.0), [UltraChat prompts (sample)](https://huggingface.co/datasets/HuggingFaceH4/ultrachat_200k) (CC BY-SA 4.0)\n",
        "**Run Profiles:** \ud83d\udda5\ufe0f CPU | \ud83c\udf4e Metal (Apple Silicon) | \ud83e\uddea Colab/T4 | \u26a1 CUDA GPU\n",
        "**Env (minimal):** python>=3.10, transformers, datasets, evaluate, accelerate (optional: peft, bitsandbytes, timm, diffusers)\n",
        "**Colab:** [Open in Colab](https://colab.research.google.com/github/SSusantAchary/Hands-On-Huggingface-AI-Models/blob/main/notebooks/serving/tgi-vs-pipeline-latency_microbenchmark.ipynb)\n",
        "\n",
        "**Switches (edit in one place):**\n",
        "- `device` = {\"cpu\",\"mps\",\"cuda\"}\n",
        "- `precision` = {\"fp32\",\"fp16\",\"bf16\",\"int8\",\"4bit\"}  (apply only if supported)\n",
        "- `context_len` / `image_res` / `batch_size`\n",
        "\n",
        "**Footprint & Speed (fill after run):**\n",
        "- Peak RAM: TODO\n",
        "- Peak VRAM: TODO (if GPU)\n",
        "- TTFB: TODO, Throughput: TODO, Load time: TODO\n",
        "\n",
        "**Gotchas:** TGI requires container and GPU setup\u2014tracked in Fixes entry ([Fixes & Tips](../fixes-and-tips/tgi-setup-todo.md))\n"
      ]
    },
    {
      "cell_type": "markdown",
      "metadata": {},
      "source": [
        "\n",
        "## Setup\n",
        "Measure pipeline latency now and leave TODO hooks for a future TGI deployment.\n"
      ]
    },
    {
      "cell_type": "code",
      "metadata": {},
      "execution_count": null,
      "outputs": [],
      "source": [
        "\n",
        "import json\n",
        "import os\n",
        "import subprocess\n",
        "import time\n",
        "from pathlib import Path\n",
        "\n",
        "import torch\n",
        "from datasets import load_dataset\n",
        "from transformers import pipeline\n",
        "\n",
        "from notebooks._templates.measure import append_benchmark_row, measure_memory_speed\n",
        "\n",
        "DEVICE_PREFERENCE = os.environ.get(\"HF_DEVICE\", \"cpu\")\n",
        "PRECISION = os.environ.get(\"HF_PRECISION\", \"fp32\")\n",
        "\n",
        "def resolve_device(preference: str = \"cpu\") -> str:\n",
        "    if preference == \"cuda\" and torch.cuda.is_available():\n",
        "        return \"cuda:0\"\n",
        "    if preference == \"mps\" and torch.backends.mps.is_available():\n",
        "        return \"mps\"\n",
        "    return \"cpu\"\n",
        "\n",
        "DEVICE = resolve_device(DEVICE_PREFERENCE)\n",
        "print(f\"Using device={DEVICE}\")\n",
        "\n",
        "PIPELINE_MODEL_ID = \"TinyLlama/TinyLlama-1.1B-Chat-v1.0\"\n",
        "OUTPUT_DIR = Path(\"outputs\") / \"tgi-vs-pipeline\"\n",
        "OUTPUT_DIR.mkdir(parents=True, exist_ok=True)\n",
        "\n",
        "prompts = load_dataset(\"HuggingFaceH4/ultrachat_200k\", split=\"train[:4]\")[\"prompt\"]\n"
      ]
    },
    {
      "cell_type": "markdown",
      "metadata": {},
      "source": [
        "## Pipeline latency (baseline)\n"
      ]
    },
    {
      "cell_type": "code",
      "metadata": {},
      "execution_count": null,
      "outputs": [],
      "source": [
        "\n",
        "torch.manual_seed(42)\n",
        "\n",
        "load_start = time.perf_counter()\n",
        "generator = pipeline(\n",
        "    \"text-generation\",\n",
        "    model=PIPELINE_MODEL_ID,\n",
        "    device=DEVICE,\n",
        "    max_new_tokens=64,\n",
        "    do_sample=False,\n",
        ")\n",
        "load_time = time.perf_counter() - load_start\n",
        "\n",
        "pipeline_outputs = []\n",
        "for prompt in prompts:\n",
        "    pipeline_outputs.append(generator(prompt)[0][\"generated_text\"])\n",
        "\n",
        "with open(OUTPUT_DIR / \"pipeline_outputs.json\", \"w\", encoding=\"utf-8\") as fp:\n",
        "    json.dump(pipeline_outputs, fp, indent=2)\n"
      ]
    },
    {
      "cell_type": "markdown",
      "metadata": {},
      "source": [
        "## Measurement\n"
      ]
    },
    {
      "cell_type": "code",
      "metadata": {},
      "execution_count": null,
      "outputs": [],
      "source": [
        "\n",
        "def run_inference(recorder):\n",
        "    for idx, prompt in enumerate(prompts):\n",
        "        result = generator(prompt, max_new_tokens=64, do_sample=False)\n",
        "        if idx == 0:\n",
        "            recorder.mark_first_token()\n",
        "        recorder.add_items(len(result[0][\"generated_text\"].split()))\n",
        "\n",
        "metrics = measure_memory_speed(run_inference)\n",
        "\n",
        "def fmt(value, digits=4):\n",
        "    if value in (None, \"\", float(\"inf\")):\n",
        "        return \"\"\n",
        "    return f\"{value:.{digits}f}\"\n",
        "\n",
        "try:\n",
        "    repo_commit = subprocess.check_output([\"git\", \"rev-parse\", \"HEAD\"], text=True).strip()\n",
        "except Exception:  # noqa: BLE001\n",
        "    repo_commit = \"\"\n",
        "\n",
        "append_benchmark_row(\n",
        "    task=\"tgi-pipeline-baseline\",\n",
        "    model_id=PIPELINE_MODEL_ID,\n",
        "    dataset=\"ultrachat_200k\",\n",
        "    sequence_or_image_res=\"64-tokens\",\n",
        "    batch=\"1\",\n",
        "    peak_ram_mb=fmt(metrics.get(\"peak_ram_mb\"), 2),\n",
        "    peak_vram_mb=fmt(metrics.get(\"peak_vram_mb\"), 2),\n",
        "    load_time_s=fmt(load_time, 2),\n",
        "    ttfb_s=fmt(metrics.get(\"ttfb_s\"), 3),\n",
        "    tokens_per_s_or_images_per_s=fmt(metrics.get(\"throughput_per_s\"), 3),\n",
        "    precision=PRECISION,\n",
        "    notebook_path=\"notebooks/serving/tgi-vs-pipeline-latency_microbenchmark.ipynb\",\n",
        "    repo_commit=repo_commit,\n",
        ")\n",
        "\n",
        "TODO_TGI_NOTES = {\n",
        "    \"status\": \"pending\",\n",
        "    \"notes\": \"Provision Text Generation Inference container and populate compare.csv\",\n",
        "}\n",
        "with open(OUTPUT_DIR / \"tgi_todo.json\", \"w\", encoding=\"utf-8\") as fp:\n",
        "    json.dump({\"metrics\": metrics, \"tgi\": TODO_TGI_NOTES}, fp, indent=2)\n",
        "metrics\n"
      ]
    },
    {
      "cell_type": "markdown",
      "metadata": {},
      "source": [
        "## Results Summary\n",
        "        - Observations: TODO\n",
        "        - Metrics captured: see `benchmarks/matrix.csv`\n",
        "\n",
        "        ## Next Steps\n",
        "        - TODOs: fill in after benchmarking\n",
        "\n",
        "        ## Repro\n",
        "        - Seed: 42 (set in measurement cell)\n",
        "        - Libraries: captured via `detect_env()`\n",
        "        - Notebook path: `notebooks/serving/tgi-vs-pipeline-latency_microbenchmark.ipynb`\n",
        "        - Latest commit: populated automatically when appending benchmarks (if git available)\n"
      ]
    }
  ],
  "metadata": {
    "kernelspec": {
      "display_name": "Python 3",
      "language": "python",
      "name": "python3"
    },
    "language_info": {
      "name": "python",
      "version": "3.10",
      "mimetype": "text/x-python",
      "codemirror_mode": {
        "name": "ipython",
        "version": 3
      },
      "pygments_lexer": "ipython3"
    }
  },
  "nbformat": 4,
  "nbformat_minor": 5
}